{
 "cells": [
  {
   "cell_type": "code",
   "execution_count": 11,
   "id": "77364744-c858-48c4-95ca-9cec3221da1a",
   "metadata": {},
   "outputs": [
    {
     "name": "stdout",
     "output_type": "stream",
     "text": [
      "computer sucks\n"
     ]
    }
   ],
   "source": [
    "print(\"computer sucks\")"
   ]
  },
  {
   "cell_type": "code",
   "execution_count": 12,
   "id": "96f4f8da-0941-4084-b243-b3de3e89869e",
   "metadata": {},
   "outputs": [
    {
     "name": "stdout",
     "output_type": "stream",
     "text": [
      "Requirement already satisfied: delta-spark in /opt/conda/lib/python3.11/site-packages (3.0.0)\n",
      "Requirement already satisfied: pyspark<3.6.0,>=3.5.0 in /opt/conda/lib/python3.11/site-packages (from delta-spark) (3.5.0)\n",
      "Requirement already satisfied: importlib-metadata>=1.0.0 in /opt/conda/lib/python3.11/site-packages (from delta-spark) (6.8.0)\n",
      "Requirement already satisfied: zipp>=0.5 in /opt/conda/lib/python3.11/site-packages (from importlib-metadata>=1.0.0->delta-spark) (3.17.0)\n",
      "Requirement already satisfied: py4j==0.10.9.7 in /opt/conda/lib/python3.11/site-packages (from pyspark<3.6.0,>=3.5.0->delta-spark) (0.10.9.7)\n",
      "Requirement already satisfied: pyspark==3.5.0 in /opt/conda/lib/python3.11/site-packages (3.5.0)\n",
      "Requirement already satisfied: py4j==0.10.9.7 in /opt/conda/lib/python3.11/site-packages (from pyspark==3.5.0) (0.10.9.7)\n",
      "Requirement already satisfied: google-cloud-pubsub in /opt/conda/lib/python3.11/site-packages (2.18.4)\n",
      "Requirement already satisfied: grpcio<2.0dev,>=1.51.3 in /opt/conda/lib/python3.11/site-packages (from google-cloud-pubsub) (1.59.2)\n",
      "Requirement already satisfied: google-api-core!=2.0.*,!=2.1.*,!=2.10.*,!=2.2.*,!=2.3.*,!=2.4.*,!=2.5.*,!=2.6.*,!=2.7.*,!=2.8.*,!=2.9.*,<3.0.0dev,>=1.34.0 in /opt/conda/lib/python3.11/site-packages (from google-api-core[grpc]!=2.0.*,!=2.1.*,!=2.10.*,!=2.2.*,!=2.3.*,!=2.4.*,!=2.5.*,!=2.6.*,!=2.7.*,!=2.8.*,!=2.9.*,<3.0.0dev,>=1.34.0->google-cloud-pubsub) (2.13.0)\n",
      "Requirement already satisfied: proto-plus<2.0.0dev,>=1.22.0 in /opt/conda/lib/python3.11/site-packages (from google-cloud-pubsub) (1.22.3)\n",
      "Requirement already satisfied: protobuf!=3.20.0,!=3.20.1,!=4.21.0,!=4.21.1,!=4.21.2,!=4.21.3,!=4.21.4,!=4.21.5,<5.0.0dev,>=3.19.5 in /opt/conda/lib/python3.11/site-packages (from google-cloud-pubsub) (4.24.3)\n",
      "Requirement already satisfied: grpc-google-iam-v1<1.0.0dev,>=0.12.4 in /opt/conda/lib/python3.11/site-packages (from google-cloud-pubsub) (0.12.6)\n",
      "Requirement already satisfied: grpcio-status>=1.33.2 in /opt/conda/lib/python3.11/site-packages (from google-cloud-pubsub) (1.59.2)\n",
      "Requirement already satisfied: googleapis-common-protos<2.0.dev0,>=1.56.2 in /opt/conda/lib/python3.11/site-packages (from google-api-core!=2.0.*,!=2.1.*,!=2.10.*,!=2.2.*,!=2.3.*,!=2.4.*,!=2.5.*,!=2.6.*,!=2.7.*,!=2.8.*,!=2.9.*,<3.0.0dev,>=1.34.0->google-api-core[grpc]!=2.0.*,!=2.1.*,!=2.10.*,!=2.2.*,!=2.3.*,!=2.4.*,!=2.5.*,!=2.6.*,!=2.7.*,!=2.8.*,!=2.9.*,<3.0.0dev,>=1.34.0->google-cloud-pubsub) (1.61.0)\n",
      "Requirement already satisfied: google-auth<3.0.dev0,>=2.14.1 in /opt/conda/lib/python3.11/site-packages (from google-api-core!=2.0.*,!=2.1.*,!=2.10.*,!=2.2.*,!=2.3.*,!=2.4.*,!=2.5.*,!=2.6.*,!=2.7.*,!=2.8.*,!=2.9.*,<3.0.0dev,>=1.34.0->google-api-core[grpc]!=2.0.*,!=2.1.*,!=2.10.*,!=2.2.*,!=2.3.*,!=2.4.*,!=2.5.*,!=2.6.*,!=2.7.*,!=2.8.*,!=2.9.*,<3.0.0dev,>=1.34.0->google-cloud-pubsub) (2.23.4)\n",
      "Requirement already satisfied: requests<3.0.0.dev0,>=2.18.0 in /opt/conda/lib/python3.11/site-packages (from google-api-core!=2.0.*,!=2.1.*,!=2.10.*,!=2.2.*,!=2.3.*,!=2.4.*,!=2.5.*,!=2.6.*,!=2.7.*,!=2.8.*,!=2.9.*,<3.0.0dev,>=1.34.0->google-api-core[grpc]!=2.0.*,!=2.1.*,!=2.10.*,!=2.2.*,!=2.3.*,!=2.4.*,!=2.5.*,!=2.6.*,!=2.7.*,!=2.8.*,!=2.9.*,<3.0.0dev,>=1.34.0->google-cloud-pubsub) (2.31.0)\n",
      "Requirement already satisfied: cachetools<6.0,>=2.0.0 in /opt/conda/lib/python3.11/site-packages (from google-auth<3.0.dev0,>=2.14.1->google-api-core!=2.0.*,!=2.1.*,!=2.10.*,!=2.2.*,!=2.3.*,!=2.4.*,!=2.5.*,!=2.6.*,!=2.7.*,!=2.8.*,!=2.9.*,<3.0.0dev,>=1.34.0->google-api-core[grpc]!=2.0.*,!=2.1.*,!=2.10.*,!=2.2.*,!=2.3.*,!=2.4.*,!=2.5.*,!=2.6.*,!=2.7.*,!=2.8.*,!=2.9.*,<3.0.0dev,>=1.34.0->google-cloud-pubsub) (5.3.2)\n",
      "Requirement already satisfied: pyasn1-modules>=0.2.1 in /opt/conda/lib/python3.11/site-packages (from google-auth<3.0.dev0,>=2.14.1->google-api-core!=2.0.*,!=2.1.*,!=2.10.*,!=2.2.*,!=2.3.*,!=2.4.*,!=2.5.*,!=2.6.*,!=2.7.*,!=2.8.*,!=2.9.*,<3.0.0dev,>=1.34.0->google-api-core[grpc]!=2.0.*,!=2.1.*,!=2.10.*,!=2.2.*,!=2.3.*,!=2.4.*,!=2.5.*,!=2.6.*,!=2.7.*,!=2.8.*,!=2.9.*,<3.0.0dev,>=1.34.0->google-cloud-pubsub) (0.3.0)\n",
      "Requirement already satisfied: rsa<5,>=3.1.4 in /opt/conda/lib/python3.11/site-packages (from google-auth<3.0.dev0,>=2.14.1->google-api-core!=2.0.*,!=2.1.*,!=2.10.*,!=2.2.*,!=2.3.*,!=2.4.*,!=2.5.*,!=2.6.*,!=2.7.*,!=2.8.*,!=2.9.*,<3.0.0dev,>=1.34.0->google-api-core[grpc]!=2.0.*,!=2.1.*,!=2.10.*,!=2.2.*,!=2.3.*,!=2.4.*,!=2.5.*,!=2.6.*,!=2.7.*,!=2.8.*,!=2.9.*,<3.0.0dev,>=1.34.0->google-cloud-pubsub) (4.9)\n",
      "Requirement already satisfied: charset-normalizer<4,>=2 in /opt/conda/lib/python3.11/site-packages (from requests<3.0.0.dev0,>=2.18.0->google-api-core!=2.0.*,!=2.1.*,!=2.10.*,!=2.2.*,!=2.3.*,!=2.4.*,!=2.5.*,!=2.6.*,!=2.7.*,!=2.8.*,!=2.9.*,<3.0.0dev,>=1.34.0->google-api-core[grpc]!=2.0.*,!=2.1.*,!=2.10.*,!=2.2.*,!=2.3.*,!=2.4.*,!=2.5.*,!=2.6.*,!=2.7.*,!=2.8.*,!=2.9.*,<3.0.0dev,>=1.34.0->google-cloud-pubsub) (3.3.0)\n",
      "Requirement already satisfied: idna<4,>=2.5 in /opt/conda/lib/python3.11/site-packages (from requests<3.0.0.dev0,>=2.18.0->google-api-core!=2.0.*,!=2.1.*,!=2.10.*,!=2.2.*,!=2.3.*,!=2.4.*,!=2.5.*,!=2.6.*,!=2.7.*,!=2.8.*,!=2.9.*,<3.0.0dev,>=1.34.0->google-api-core[grpc]!=2.0.*,!=2.1.*,!=2.10.*,!=2.2.*,!=2.3.*,!=2.4.*,!=2.5.*,!=2.6.*,!=2.7.*,!=2.8.*,!=2.9.*,<3.0.0dev,>=1.34.0->google-cloud-pubsub) (3.4)\n",
      "Requirement already satisfied: urllib3<3,>=1.21.1 in /opt/conda/lib/python3.11/site-packages (from requests<3.0.0.dev0,>=2.18.0->google-api-core!=2.0.*,!=2.1.*,!=2.10.*,!=2.2.*,!=2.3.*,!=2.4.*,!=2.5.*,!=2.6.*,!=2.7.*,!=2.8.*,!=2.9.*,<3.0.0dev,>=1.34.0->google-api-core[grpc]!=2.0.*,!=2.1.*,!=2.10.*,!=2.2.*,!=2.3.*,!=2.4.*,!=2.5.*,!=2.6.*,!=2.7.*,!=2.8.*,!=2.9.*,<3.0.0dev,>=1.34.0->google-cloud-pubsub) (2.0.7)\n",
      "Requirement already satisfied: certifi>=2017.4.17 in /opt/conda/lib/python3.11/site-packages (from requests<3.0.0.dev0,>=2.18.0->google-api-core!=2.0.*,!=2.1.*,!=2.10.*,!=2.2.*,!=2.3.*,!=2.4.*,!=2.5.*,!=2.6.*,!=2.7.*,!=2.8.*,!=2.9.*,<3.0.0dev,>=1.34.0->google-api-core[grpc]!=2.0.*,!=2.1.*,!=2.10.*,!=2.2.*,!=2.3.*,!=2.4.*,!=2.5.*,!=2.6.*,!=2.7.*,!=2.8.*,!=2.9.*,<3.0.0dev,>=1.34.0->google-cloud-pubsub) (2023.7.22)\n",
      "Requirement already satisfied: pyasn1<0.6.0,>=0.4.6 in /opt/conda/lib/python3.11/site-packages (from pyasn1-modules>=0.2.1->google-auth<3.0.dev0,>=2.14.1->google-api-core!=2.0.*,!=2.1.*,!=2.10.*,!=2.2.*,!=2.3.*,!=2.4.*,!=2.5.*,!=2.6.*,!=2.7.*,!=2.8.*,!=2.9.*,<3.0.0dev,>=1.34.0->google-api-core[grpc]!=2.0.*,!=2.1.*,!=2.10.*,!=2.2.*,!=2.3.*,!=2.4.*,!=2.5.*,!=2.6.*,!=2.7.*,!=2.8.*,!=2.9.*,<3.0.0dev,>=1.34.0->google-cloud-pubsub) (0.5.0)\n"
     ]
    }
   ],
   "source": [
    "!pip install delta-spark\n",
    "!pip install pyspark==3.5.0\n",
    "!pip install google-cloud-pubsub"
   ]
  },
  {
   "cell_type": "code",
   "execution_count": 19,
   "id": "86b78fa0-fc31-4f4b-9fa3-89c27ed67479",
   "metadata": {},
   "outputs": [],
   "source": [
    "from delta import *\n",
    "import pyspark\n",
    "\n",
    "builder = pyspark.sql.SparkSession.builder.appName(\"MyApp\") \\\n",
    "    .config(\"spark.sql.extensions\", \"io.delta.sql.DeltaSparkSessionExtension\") \\\n",
    "    .config(\"spark.sql.catalog.spark_catalog\", \"org.apache.spark.sql.delta.catalog.DeltaCatalog\")\n",
    "\n",
    "spark = configure_spark_with_delta_pip(builder).getOrCreate()\n",
    "\n"
   ]
  },
  {
   "cell_type": "code",
   "execution_count": 20,
   "id": "0a4b82f6-8392-4adf-a627-274c7871e827",
   "metadata": {},
   "outputs": [],
   "source": [
    "import shutil\n",
    "data = [(1, 'Alice', '555-555-5555'), (2, 'Bob', '123-456-7890'), (3, 'Charlie', '098-876-5432'), (4, 'Benny', '000-000-0000')]\n",
    "columns = ['id', 'name', 'phone']\n",
    "df = spark.createDataFrame(data, columns)\n",
    "\n",
    "delta_log_path = \"delta\"\n",
    "\n",
    "# Forcefully delete the directory\n",
    "shutil.rmtree(delta_log_path, ignore_errors=True)\n",
    "\n",
    "df.write.format(\"delta\").mode(\"overwrite\").save(\"delta\")"
   ]
  },
  {
   "cell_type": "code",
   "execution_count": 21,
   "id": "a5399c2e-8541-4552-9961-7408aadbb4af",
   "metadata": {},
   "outputs": [
    {
     "name": "stdout",
     "output_type": "stream",
     "text": [
      "+---+-------+------------+\n",
      "| id|   name|       phone|\n",
      "+---+-------+------------+\n",
      "|  3|Charlie|098-876-5432|\n",
      "|  4|  Benny|000-000-0000|\n",
      "|  1|  Alice|555-555-5555|\n",
      "|  2|    Bob|123-456-7890|\n",
      "+---+-------+------------+\n",
      "\n"
     ]
    }
   ],
   "source": [
    "# Load the Delta table\n",
    "delta_table = DeltaTable.forPath(spark, \"delta\")\n",
    "\n",
    "# Read the data from the Delta table\n",
    "delta_data = delta_table.toDF()\n",
    "\n",
    "# Show the data\n",
    "delta_data.show()\n"
   ]
  },
  {
   "cell_type": "code",
   "execution_count": 22,
   "id": "90ca1828-f28f-47e3-bdd3-f8b730630343",
   "metadata": {},
   "outputs": [
    {
     "data": {
      "text/plain": [
       "<StreamingPullFuture at 0x7f28b846bc50 state=pending>"
      ]
     },
     "execution_count": 22,
     "metadata": {},
     "output_type": "execute_result"
    }
   ],
   "source": [
    "from google.cloud import pubsub_v1\n",
    "\n",
    "# Replace with your Google Cloud project ID and subscription name\n",
    "project_id = \"deep-theorem-402423\"\n",
    "subscription_name = \"practice-sub\"\n",
    "\n",
    "# Create a Pub/Sub subscriber client\n",
    "subscriber = pubsub_v1.SubscriberClient()\n",
    "\n",
    "# Create a subscription path\n",
    "subscription_path = subscriber.subscription_path(project_id, subscription_name)\n",
    "\n",
    "def callback(message):\n",
    "    print(f\"Received message: {message.data}\")\n",
    "    message.ack()  # Acknowledge the message to remove it from the subscription\n",
    "\n",
    "# Open the subscription to start receiving messages\n",
    "subscriber.subscribe(subscription_path, callback=callback)\n"
   ]
  },
  {
   "cell_type": "code",
   "execution_count": 23,
   "id": "b28e58b3-2d0a-45b0-ae44-7d1a30d472ec",
   "metadata": {},
   "outputs": [
    {
     "name": "stdout",
     "output_type": "stream",
     "text": [
      "Published message: {\"id\":3,\"name\":\"Charlie\",\"phone\":\"098-876-5432\"}\n",
      "Published message: {\"id\":4,\"name\":\"Benny\",\"phone\":\"000-000-0000\"}\n",
      "Published message: {\"id\":1,\"name\":\"Alice\",\"phone\":\"555-555-5555\"}\n",
      "Published message: {\"id\":2,\"name\":\"Bob\",\"phone\":\"123-456-7890\"}\n",
      "Received message: b'\"{\\\\\"id\\\\\":3,\\\\\"name\\\\\":\\\\\"Charlie\\\\\",\\\\\"phone\\\\\":\\\\\"098-876-5432\\\\\"}\"'\n",
      "Received message: b'\"{\\\\\"id\\\\\":4,\\\\\"name\\\\\":\\\\\"Benny\\\\\",\\\\\"phone\\\\\":\\\\\"000-000-0000\\\\\"}\"'\n",
      "Received message: b'\"{\\\\\"id\\\\\":1,\\\\\"name\\\\\":\\\\\"Alice\\\\\",\\\\\"phone\\\\\":\\\\\"555-555-5555\\\\\"}\"'\n",
      "Received message: b'\"{\\\\\"id\\\\\":2,\\\\\"name\\\\\":\\\\\"Bob\\\\\",\\\\\"phone\\\\\":\\\\\"123-456-7890\\\\\"}\"'\n"
     ]
    }
   ],
   "source": [
    "from google.cloud import pubsub_v1\n",
    "import json\n",
    "import os\n",
    "\n",
    "# Set the path to your service account key JSON file\n",
    "os.environ[\"GOOGLE_APPLICATION_CREDENTIALS\"] = \"deep-theorem-402423-c70baa940bdf.json\"\n",
    "\n",
    "# Import the necessary Google Cloud Pub/Sub libraries and continue with your code\n",
    "from google.cloud import pubsub_v1\n",
    "\n",
    "# Replace these variables with your own values\n",
    "project_id = \"deep-theorem-402423\"\n",
    "topic_name = \"practice\"\n",
    "\n",
    "# Create a Pub/Sub client\n",
    "publisher = pubsub_v1.PublisherClient()\n",
    "\n",
    "# Create a Topic path\n",
    "topic_path = publisher.topic_path(project_id, topic_name)\n",
    "\n",
    "# Load data from your Delta table into a DataFrame\n",
    "delta_log_path = \"delta\"  # Replace with the actual path to your Delta table\n",
    "\n",
    "# Assuming you're using PySpark for working with Delta tables\n",
    "# from pyspark.sql import SparkSession\n",
    "\n",
    "# spark = SparkSession.builder.appName(\"DeltaToPubSub\").getOrCreate()\n",
    "delta_df = spark.read.format(\"delta\").load(delta_log_path)\n",
    "\n",
    "# Convert the DataFrame to a list of dictionaries (each row as a dictionary)\n",
    "data_to_publish = delta_df.toJSON().collect()\n",
    "\n",
    "# Publish each record to Pub/Sub\n",
    "for record in data_to_publish:\n",
    "    # Convert the JSON record to bytes\n",
    "    message_data = json.dumps(record).encode(\"utf-8\")\n",
    "\n",
    "    # Publish the message\n",
    "    publisher.publish(topic_path, data=message_data)\n",
    "\n",
    "    print(f\"Published message: {record}\")"
   ]
  }
 ],
 "metadata": {
  "kernelspec": {
   "display_name": "Python 3 (ipykernel)",
   "language": "python",
   "name": "python3"
  },
  "language_info": {
   "codemirror_mode": {
    "name": "ipython",
    "version": 3
   },
   "file_extension": ".py",
   "mimetype": "text/x-python",
   "name": "python",
   "nbconvert_exporter": "python",
   "pygments_lexer": "ipython3",
   "version": "3.11.6"
  }
 },
 "nbformat": 4,
 "nbformat_minor": 5
}
